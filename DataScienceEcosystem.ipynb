{
 "cells": [
  {
   "cell_type": "markdown",
   "id": "8ef55da8-38bb-46de-9a47-f7741cfa553d",
   "metadata": {},
   "source": [
    "# Data Science Tools and Ecosystem"
   ]
  },
  {
   "cell_type": "markdown",
   "id": "8994c26b-c2f7-4d85-8c13-6ec69ca5667a",
   "metadata": {},
   "source": [
    "## Author\n",
    "Giorgia Ortolani\n"
   ]
  },
  {
   "cell_type": "markdown",
   "id": "0abbc389-a5f1-4ca7-b4b4-39592c0552fd",
   "metadata": {},
   "source": [
    "In this notebook, Data Science Tools and Ecosystem are summarized."
   ]
  },
  {
   "cell_type": "markdown",
   "id": "71bfa8fc-e2f9-4a61-a893-f787f307897a",
   "metadata": {},
   "source": [
    "**Objectives:**\n",
    "\n",
    "- List languages for data science\n",
    "- Identify uses and benefits of Python\n",
    "- Identify uses and benefits or R\n",
    "- Identify uses and benefits of SQL"
   ]
  },
  {
   "cell_type": "markdown",
   "id": "2df13528-7489-4032-9a14-53985a13b34e",
   "metadata": {},
   "source": [
    "Some of the popular languages that Data Scientists use are:\n",
    "\n",
    "1. Python\n",
    "2. R\n",
    "3. SQL\n",
    "\n"
   ]
  },
  {
   "cell_type": "markdown",
   "id": "213c8d39-d6ed-4916-841d-05fd10ccb879",
   "metadata": {},
   "source": [
    "Some of the commonly used libraries used by Data Scientists include:\n",
    "\n",
    "1. Pandas\n",
    "2. NumPy\n",
    "3. MatplotLib\n",
    "4. Seaborn"
   ]
  },
  {
   "cell_type": "markdown",
   "id": "5a8615e7-808a-4a60-9868-eb15729273b8",
   "metadata": {},
   "source": [
    "|Data Science Tools|\n",
    "|------------------|\n",
    "|MySQL| \n",
    "|MongoDB|\n",
    "|Apache CouchDB|"
   ]
  },
  {
   "cell_type": "markdown",
   "id": "1457e3bb-5725-4ebe-8850-b9d05685ba93",
   "metadata": {},
   "source": [
    "### Below are a few examples of evaluating arithmetic expressions in Python"
   ]
  },
  {
   "cell_type": "code",
   "execution_count": 2,
   "id": "6096da51-933e-4cbb-85a0-5f91c434e613",
   "metadata": {},
   "outputs": [
    {
     "data": {
      "text/plain": [
       "17"
      ]
     },
     "execution_count": 2,
     "metadata": {},
     "output_type": "execute_result"
    }
   ],
   "source": [
    "#This a simple arithmetic expression to mutiply then add integers\n",
    "(3*4)+5"
   ]
  },
  {
   "cell_type": "code",
   "execution_count": 4,
   "id": "114a13db-8c7f-4a38-a67b-996e0dc56277",
   "metadata": {},
   "outputs": [
    {
     "data": {
      "text/plain": [
       "3.3333333333333335"
      ]
     },
     "execution_count": 4,
     "metadata": {},
     "output_type": "execute_result"
    }
   ],
   "source": [
    "#This will convert 200 minutes to hours by diving by 60\n",
    "200/60"
   ]
  }
 ],
 "metadata": {
  "kernelspec": {
   "display_name": "Python",
   "language": "python",
   "name": "conda-env-python-py"
  },
  "language_info": {
   "codemirror_mode": {
    "name": "ipython",
    "version": 3
   },
   "file_extension": ".py",
   "mimetype": "text/x-python",
   "name": "python",
   "nbconvert_exporter": "python",
   "pygments_lexer": "ipython3",
   "version": "3.7.12"
  }
 },
 "nbformat": 4,
 "nbformat_minor": 5
}
